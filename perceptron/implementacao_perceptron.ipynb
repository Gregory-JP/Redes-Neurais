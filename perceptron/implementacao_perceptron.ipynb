{
 "cells": [
  {
   "cell_type": "code",
   "execution_count": 4,
   "metadata": {
    "ExecuteTime": {
     "end_time": "2017-09-20T12:53:30.345746Z",
     "start_time": "2017-09-20T12:52:48.057739Z"
    }
   },
   "outputs": [],
   "source": [
    "import numpy as np\n",
    "import matplotlib.pyplot as plt\n",
    "from random import random\n",
    "from sklearn.linear_model import LinearRegression\n",
    "from sklearn.preprocessing import MinMaxScaler\n",
    "from sklearn.datasets import make_blobs\n",
    "\n",
    "%matplotlib inline"
   ]
  },
  {
   "cell_type": "markdown",
   "metadata": {},
   "source": [
    "## Porta AND/OR"
   ]
  },
  {
   "cell_type": "code",
   "execution_count": 5,
   "metadata": {
    "ExecuteTime": {
     "end_time": "2017-09-15T11:11:37.370366Z",
     "start_time": "2017-09-15T11:11:37.359356Z"
    }
   },
   "outputs": [
    {
     "name": "stdout",
     "output_type": "stream",
     "text": [
      "(4, 2) (4,)\n"
     ]
    }
   ],
   "source": [
    "x = np.array([[0, 0], [0, 1], [1, 0], [1, 1]])\n",
    "\n",
    "# porta OR\n",
    "#y = np.array([0, 1, 1, 1])\n",
    "\n",
    "# porta AND\n",
    "y = np.array([0, 0, 0, 1]).T \n",
    "\n",
    "print(x.shape, y.shape)"
   ]
  },
  {
   "cell_type": "markdown",
   "metadata": {
    "heading_collapsed": true
   },
   "source": [
    "### Python"
   ]
  },
  {
   "cell_type": "code",
   "execution_count": 6,
   "metadata": {
    "ExecuteTime": {
     "end_time": "2017-09-15T11:21:18.798586Z",
     "start_time": "2017-09-15T11:21:18.667487Z"
    },
    "hidden": true
   },
   "outputs": [
    {
     "name": "stdout",
     "output_type": "stream",
     "text": [
      "step 0: 2\n",
      "step 10: 2\n",
      "step 20: 2\n",
      "step 30: 2\n",
      "step 40: 1\n",
      "step 50: 2\n",
      "step 60: 2\n",
      "step 70: 1\n",
      "step 80: 2\n",
      "step 90: 2\n",
      "step 100: 1\n",
      "w: [0.3712586610375035, -0.0527756378147407]\n",
      "b: -0.3123360142456698\n",
      "t_pred: [-0.31233601 -0.36511165  0.05892265  0.00614701]\n"
     ]
    }
   ],
   "source": [
    "d = x.shape[1]\n",
    "\n",
    "w = [2 * random() - 1 for i in range(d)]\n",
    "\n",
    "b = 2 * random() - 1\n",
    "\n",
    "learning_rate = 1e-2\n",
    "\n",
    "for step in range(101):\n",
    "    cost = 0\n",
    "    \n",
    "    for x_n, y_n in zip(x, y):\n",
    "        y_pred = sum([x_i * w_i for x_i, w_i in zip(x_n, w)]) + b\n",
    "        y_pred = 1 if y_pred > 0 else 0\n",
    "        \n",
    "        error = y_n - y_pred\n",
    "        \n",
    "        w = [(w_i + learning_rate * error * x_i) for x_i, w_i in zip(x_n, w)]\n",
    "        b = b + learning_rate * error\n",
    "        \n",
    "        cost += error**2\n",
    "    \n",
    "    if step % 10 == 0:\n",
    "        print(f'step {step}: {cost}')\n",
    "        \n",
    "print(f'w: {w}')\n",
    "print(f'b: {b}')\n",
    "print(f't_pred: {np.dot(x, np.array(w)) + b}')"
   ]
  },
  {
   "cell_type": "markdown",
   "metadata": {
    "heading_collapsed": true
   },
   "source": [
    "### Numpy"
   ]
  },
  {
   "cell_type": "code",
   "execution_count": 7,
   "metadata": {
    "ExecuteTime": {
     "end_time": "2017-09-15T12:21:02.603975Z",
     "start_time": "2017-09-15T12:21:02.555936Z"
    },
    "hidden": true
   },
   "outputs": [
    {
     "name": "stdout",
     "output_type": "stream",
     "text": [
      "step 0: 3\n",
      "step 10: 3\n",
      "step 20: 3\n",
      "step 30: 3\n",
      "step 40: 3\n",
      "step 50: 0\n",
      "step 60: 0\n",
      "step 70: 0\n",
      "step 80: 0\n",
      "step 90: 0\n",
      "step 100: 0\n",
      "w: [0.01894768 0.01746238]\n",
      "b: -0.029749322954728825\n",
      "t_pred: [-0.02974932 -0.01228694 -0.01080164  0.00666074]\n"
     ]
    }
   ],
   "source": [
    "d = x.shape[1]\n",
    "\n",
    "w = 2 * np.random.random(size=d) - 1\n",
    "\n",
    "b = 2 * np.random.random() - 1\n",
    "\n",
    "learning_rate = 1e-2\n",
    "\n",
    "for step in range(101):\n",
    "    cost = 0\n",
    "    \n",
    "    for x_n, y_n in zip(x, y):\n",
    "        y_pred = np.dot(x_n, w) + b\n",
    "        y_pred = np.where(y_pred > 0, 1, 0)\n",
    "        \n",
    "        error = y_n - y_pred\n",
    "        \n",
    "        w = w + learning_rate * np.dot(error, x_n)\n",
    "        b = b + learning_rate * error\n",
    "        \n",
    "        cost += error**2\n",
    "        \n",
    "    if step % 10 == 0:\n",
    "        print(f'step {step}: {cost}')\n",
    "        \n",
    "print(f'w: {w}')\n",
    "print(f'b: {b}')\n",
    "print(f't_pred: {np.dot(x, np.array(w)) + b}')"
   ]
  },
  {
   "cell_type": "markdown",
   "metadata": {
    "collapsed": true
   },
   "source": [
    "## Exercício de Classificação"
   ]
  },
  {
   "cell_type": "code",
   "execution_count": 8,
   "metadata": {},
   "outputs": [
    {
     "name": "stdout",
     "output_type": "stream",
     "text": [
      "(100, 2) (100,)\n"
     ]
    },
    {
     "data": {
      "text/plain": [
       "<matplotlib.collections.PathCollection at 0x1d2020e8550>"
      ]
     },
     "execution_count": 8,
     "metadata": {},
     "output_type": "execute_result"
    },
    {
     "data": {
      "image/png": "[encoded data removed]",
      "text/plain": [
       "<Figure size 432x288 with 1 Axes>"
      ]
     },
     "metadata": {
      "needs_background": "light"
     },
     "output_type": "display_data"
    }
   ],
   "source": [
    "x, y = make_blobs(n_samples=100, n_features=2, centers=2, random_state=1234)\n",
    "\n",
    "print(x.shape, y.shape)\n",
    "plt.scatter(x[:,0], x[:,1], c=y.ravel(), cmap='bwr')"
   ]
  },
  {
   "cell_type": "code",
   "execution_count": 9,
   "metadata": {},
   "outputs": [],
   "source": [
    "def plot_linear_classifier(x, y, w, b):\n",
    "    x1_min, x1_max = x[:,0].min(), x[:,0].max()\n",
    "    x2_min, x2_max = x[:,1].min(), x[:,1].max()\n",
    "\n",
    "    x1, x2 = np.meshgrid(np.linspace(x1_min-1, x1_max+1,100), np.linspace(x2_min-1, x2_max+1, 100))\n",
    "    x_mesh = np.array([x1.ravel(), x2.ravel()]).T\n",
    "\n",
    "    plt.scatter(x[:,0], x[:,1], c=y.ravel(), cmap='bwr')\n",
    "\n",
    "    y_mesh = np.dot(x_mesh, np.array(w).reshape(1, -1).T) + b\n",
    "    y_mesh = np.where(y_mesh <= 0, 0, 1)\n",
    "\n",
    "    plt.contourf(x1, x2, y_mesh.reshape(x1.shape), cmap='bwr', alpha=0.5)\n",
    "    plt.xlim(x1_min-1, x1_max+1)\n",
    "    plt.ylim(x2_min-1, x2_max+1)"
   ]
  },
  {
   "cell_type": "markdown",
   "metadata": {},
   "source": [
    "### Python"
   ]
  },
  {
   "cell_type": "code",
   "execution_count": 10,
   "metadata": {},
   "outputs": [
    {
     "name": "stdout",
     "output_type": "stream",
     "text": [
      "step 0: 2\n",
      "step 10: 0\n",
      "step 20: 0\n",
      "step 30: 0\n",
      "step 40: 0\n",
      "step 50: 0\n",
      "step 60: 0\n",
      "step 70: 0\n",
      "step 80: 0\n",
      "step 90: 0\n",
      "step 100: 0\n",
      "w: [0.7176494416007357, 0.6484457688164317]\n",
      "b: 0.4237716950686523\n"
     ]
    },
    {
     "data": {
      "image/png": "[encoded data removed]",
      "text/plain": [
       "<Figure size 432x288 with 1 Axes>"
      ]
     },
     "metadata": {
      "needs_background": "light"
     },
     "output_type": "display_data"
    }
   ],
   "source": [
    "d = x.shape[1]\n",
    "\n",
    "w = [2 * random() - 1 for i in range(d)]\n",
    "\n",
    "b = 2 * random() - 1\n",
    "\n",
    "learning_rate = 1e-2\n",
    "\n",
    "for step in range(101):\n",
    "    cost = 0\n",
    "    \n",
    "    for x_n, y_n in zip(x, y):\n",
    "        y_pred = sum([x_i * w_i for x_i, w_i in zip(x_n, w)]) + b\n",
    "        y_pred = 1 if y_pred > 0 else 0\n",
    "        \n",
    "        error = y_n - y_pred\n",
    "        \n",
    "        w = [(w_i + learning_rate * error * x_i) for x_i, w_i in zip(x_n, w)]\n",
    "        b = b + learning_rate * error\n",
    "        \n",
    "        cost += error**2\n",
    "    \n",
    "    if step % 10 == 0:\n",
    "        print(f'step {step}: {cost}')\n",
    "        \n",
    "print(f'w: {w}')\n",
    "print(f'b: {b}')\n",
    "\n",
    "plot_linear_classifier(x, y, w, b)"
   ]
  },
  {
   "cell_type": "markdown",
   "metadata": {},
   "source": [
    "### Numpy"
   ]
  },
  {
   "cell_type": "code",
   "execution_count": 11,
   "metadata": {},
   "outputs": [
    {
     "name": "stdout",
     "output_type": "stream",
     "text": [
      "step 0: 13\n",
      "step 10: 0\n",
      "step 20: 0\n",
      "step 30: 0\n",
      "step 40: 0\n",
      "step 50: 0\n",
      "step 60: 0\n",
      "step 70: 0\n",
      "step 80: 0\n",
      "step 90: 0\n",
      "step 100: 0\n",
      "w: [0.32688524 0.33748465]\n",
      "b: -0.15909520904085883\n"
     ]
    },
    {
     "data": {
      "image/png": "[encoded data removed]",
      "text/plain": [
       "<Figure size 432x288 with 1 Axes>"
      ]
     },
     "metadata": {
      "needs_background": "light"
     },
     "output_type": "display_data"
    }
   ],
   "source": [
    "d = x.shape[1]\n",
    "\n",
    "w = 2 * np.random.random(size=d) - 1\n",
    "\n",
    "b = 2 * np.random.random() - 1\n",
    "\n",
    "learning_rate = 1e-2\n",
    "\n",
    "for step in range(101):\n",
    "    cost = 0\n",
    "    \n",
    "    for x_n, y_n in zip(x, y):\n",
    "        y_pred = np.dot(x_n, w) + b\n",
    "        y_pred = np.where(y_pred > 0, 1, 0)\n",
    "        \n",
    "        error = y_n - y_pred\n",
    "        \n",
    "        w = w + learning_rate * np.dot(error, x_n)\n",
    "        b = b + learning_rate * error\n",
    "        \n",
    "        cost += error**2\n",
    "        \n",
    "    if step % 10 == 0:\n",
    "        print(f'step {step}: {cost}')\n",
    "        \n",
    "print(f'w: {w}')\n",
    "print(f'b: {b}')\n",
    "\n",
    "plot_linear_classifier(x, y, w, b)"
   ]
  },
  {
   "cell_type": "code",
   "execution_count": null,
   "metadata": {},
   "outputs": [],
   "source": []
  }
 ],
 "metadata": {
  "kernelspec": {
   "display_name": "Python 3 (ipykernel)",
   "language": "python",
   "name": "python3"
  },
  "language_info": {
   "codemirror_mode": {
    "name": "ipython",
    "version": 3
   },
   "file_extension": ".py",
   "mimetype": "text/x-python",
   "name": "python",
   "nbconvert_exporter": "python",
   "pygments_lexer": "ipython3",
   "version": "3.9.7"
  }
 },
 "nbformat": 4,
 "nbformat_minor": 2
}
